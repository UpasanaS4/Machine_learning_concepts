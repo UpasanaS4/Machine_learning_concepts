{
 "cells": [
  {
   "cell_type": "markdown",
   "metadata": {},
   "source": [
    "## To predict diabetes using PIMA dataset\n"
   ]
  },
  {
   "cell_type": "markdown",
   "metadata": {},
   "source": [
    "### Importing required libraries"
   ]
  },
  {
   "cell_type": "code",
   "execution_count": 133,
   "metadata": {},
   "outputs": [
    {
     "name": "stdout",
     "output_type": "stream",
     "text": [
      "\n",
      " Volume Serial Number is 3464-854D\n",
      "\n",
      " Directory of D:\\PGDM_Xaviers_2021\\Fourth_Week_Classification\n",
      "\n",
      "31-01-2021  09:02    <DIR>          .\n",
      "31-01-2021  09:02    <DIR>          ..\n",
      "31-01-2021  07:34    <DIR>          .ipynb_checkpoints\n",
      "31-01-2021  09:02           162,180 diabetes_classification_problem.ipynb\n",
      "31-01-2021  03:17            11,691 diabetes-classification.zip\n",
      "02-12-2019  05:22             1,071 sample_submission.csv\n",
      "02-12-2019  05:22             5,202 test.csv\n",
      "02-12-2019  05:22            21,482 train.csv\n",
      "               5 File(s)        201,626 bytes\n",
      "               3 Dir(s)  298,222,190,592 bytes free\n"
     ]
    }
   ],
   "source": [
    "import numpy as np\n",
    "import pandas as pd\n",
    "import matplotlib.pyplot as plt\n",
    "%matplotlib inline"
   ]
  },
  {
   "cell_type": "code",
   "execution_count": 132,
   "metadata": {},
   "outputs": [
    {
     "name": "stdout",
     "output_type": "stream",
     "text": [
      " Volume in drive D is New Volume"
     ]
    }
   ],
   "source": [
    "%ls"
   ]
  },
  {
   "cell_type": "code",
   "execution_count": 73,
   "metadata": {},
   "outputs": [],
   "source": [
    "# Loading both the datasets\n",
    "data = pd.read_csv(\"train.csv\")\n",
    "#test= pd.read_csv(\"test.csv\")"
   ]
  },
  {
   "cell_type": "code",
   "execution_count": 74,
   "metadata": {},
   "outputs": [
    {
     "data": {
      "text/plain": [
       "(614, 10)"
      ]
     },
     "execution_count": 74,
     "metadata": {},
     "output_type": "execute_result"
    }
   ],
   "source": [
    "# Checking the shape\n",
    "data.shape"
   ]
  },
  {
   "cell_type": "code",
   "execution_count": 75,
   "metadata": {},
   "outputs": [
    {
     "data": {
      "text/html": [
       "<div>\n",
       "<style scoped>\n",
       "    .dataframe tbody tr th:only-of-type {\n",
       "        vertical-align: middle;\n",
       "    }\n",
       "\n",
       "    .dataframe tbody tr th {\n",
       "        vertical-align: top;\n",
       "    }\n",
       "\n",
       "    .dataframe thead th {\n",
       "        text-align: right;\n",
       "    }\n",
       "</style>\n",
       "<table border=\"1\" class=\"dataframe\">\n",
       "  <thead>\n",
       "    <tr style=\"text-align: right;\">\n",
       "      <th></th>\n",
       "      <th>p_id</th>\n",
       "      <th>no_times_pregnant</th>\n",
       "      <th>glucose_concentration</th>\n",
       "      <th>blood_pressure</th>\n",
       "      <th>skin_fold_thickness</th>\n",
       "      <th>serum_insulin</th>\n",
       "      <th>bmi</th>\n",
       "      <th>diabetes pedigree</th>\n",
       "      <th>age</th>\n",
       "      <th>diabetes</th>\n",
       "    </tr>\n",
       "  </thead>\n",
       "  <tbody>\n",
       "    <tr>\n",
       "      <th>0</th>\n",
       "      <td>316</td>\n",
       "      <td>2</td>\n",
       "      <td>112</td>\n",
       "      <td>68</td>\n",
       "      <td>22</td>\n",
       "      <td>94</td>\n",
       "      <td>34.1</td>\n",
       "      <td>0.315</td>\n",
       "      <td>26</td>\n",
       "      <td>0</td>\n",
       "    </tr>\n",
       "    <tr>\n",
       "      <th>1</th>\n",
       "      <td>25</td>\n",
       "      <td>11</td>\n",
       "      <td>143</td>\n",
       "      <td>94</td>\n",
       "      <td>33</td>\n",
       "      <td>146</td>\n",
       "      <td>36.6</td>\n",
       "      <td>0.254</td>\n",
       "      <td>51</td>\n",
       "      <td>1</td>\n",
       "    </tr>\n",
       "  </tbody>\n",
       "</table>\n",
       "</div>"
      ],
      "text/plain": [
       "   p_id  no_times_pregnant  glucose_concentration  blood_pressure  \\\n",
       "0   316                  2                    112              68   \n",
       "1    25                 11                    143              94   \n",
       "\n",
       "   skin_fold_thickness  serum_insulin   bmi  diabetes pedigree  age  diabetes  \n",
       "0                   22             94  34.1              0.315   26         0  \n",
       "1                   33            146  36.6              0.254   51         1  "
      ]
     },
     "execution_count": 75,
     "metadata": {},
     "output_type": "execute_result"
    }
   ],
   "source": [
    "# Checking first few rows of training dataset\n",
    "data.head(2)"
   ]
  },
  {
   "cell_type": "code",
   "execution_count": 134,
   "metadata": {},
   "outputs": [
    {
     "name": "stdout",
     "output_type": "stream",
     "text": [
      "<class 'pandas.core.frame.DataFrame'>\n",
      "RangeIndex: 614 entries, 0 to 613\n",
      "Data columns (total 10 columns):\n",
      " #   Column                 Non-Null Count  Dtype  \n",
      "---  ------                 --------------  -----  \n",
      " 0   p_id                   614 non-null    int64  \n",
      " 1   no_times_pregnant      614 non-null    int64  \n",
      " 2   glucose_concentration  614 non-null    int64  \n",
      " 3   blood_pressure         614 non-null    int64  \n",
      " 4   skin_fold_thickness    614 non-null    int64  \n",
      " 5   serum_insulin          614 non-null    int64  \n",
      " 6   bmi                    614 non-null    float64\n",
      " 7   diabetes pedigree      614 non-null    float64\n",
      " 8   age                    614 non-null    int64  \n",
      " 9   diabetes               614 non-null    int64  \n",
      "dtypes: float64(2), int64(8)\n",
      "memory usage: 48.1 KB\n"
     ]
    }
   ],
   "source": [
    "# Checking first few rows of test dataset\n",
    "#test.head(2)\n",
    "\n",
    "data.info()"
   ]
  },
  {
   "cell_type": "code",
   "execution_count": 76,
   "metadata": {},
   "outputs": [
    {
     "data": {
      "text/plain": [
       "p_id                     0\n",
       "no_times_pregnant        0\n",
       "glucose_concentration    0\n",
       "blood_pressure           0\n",
       "skin_fold_thickness      0\n",
       "serum_insulin            0\n",
       "bmi                      0\n",
       "diabetes pedigree        0\n",
       "age                      0\n",
       "diabetes                 0\n",
       "dtype: int64"
      ]
     },
     "execution_count": 76,
     "metadata": {},
     "output_type": "execute_result"
    }
   ],
   "source": [
    "## Checking the null values in the data set\n",
    "data.isnull().sum()"
   ]
  },
  {
   "cell_type": "code",
   "execution_count": 77,
   "metadata": {},
   "outputs": [
    {
     "data": {
      "text/plain": [
       "False"
      ]
     },
     "execution_count": 77,
     "metadata": {},
     "output_type": "execute_result"
    }
   ],
   "source": [
    "## Another way of checking if the values are null; it gives result in bool yes or no\n",
    "data.isnull().values.any()"
   ]
  },
  {
   "cell_type": "code",
   "execution_count": 78,
   "metadata": {},
   "outputs": [
    {
     "data": {
      "text/plain": [
       "Index(['p_id', 'no_times_pregnant', 'glucose_concentration', 'blood_pressure',\n",
       "       'skin_fold_thickness', 'serum_insulin', 'bmi', 'diabetes pedigree',\n",
       "       'age', 'diabetes'],\n",
       "      dtype='object')"
      ]
     },
     "execution_count": 78,
     "metadata": {},
     "output_type": "execute_result"
    }
   ],
   "source": [
    "## Checking column names in training dataset\n",
    "data.columns"
   ]
  },
  {
   "cell_type": "code",
   "execution_count": 79,
   "metadata": {},
   "outputs": [
    {
     "data": {
      "text/plain": [
       "p_id                       int64\n",
       "no_times_pregnant          int64\n",
       "glucose_concentration      int64\n",
       "blood_pressure             int64\n",
       "skin_fold_thickness        int64\n",
       "serum_insulin              int64\n",
       "bmi                      float64\n",
       "diabetes pedigree        float64\n",
       "age                        int64\n",
       "diabetes                   int64\n",
       "dtype: object"
      ]
     },
     "execution_count": 79,
     "metadata": {},
     "output_type": "execute_result"
    }
   ],
   "source": [
    "## Checking the data types\n",
    "data.dtypes"
   ]
  },
  {
   "cell_type": "markdown",
   "metadata": {},
   "source": [
    "## Understanding the feature names, their units asper requirement\n",
    "Pima Indians Diabetes Database\n",
    "\n",
    "Number of Instances: 768\n",
    "\n",
    "Number of Attributes: 8 plus class\n",
    "\n",
    "Columns Description:\n",
    "\n",
    "Number of times pregnant  \n",
    "\n",
    "Plasma glucose concentration a 2 hours in an oral glucose tolerance test  \n",
    "\n",
    "Diastolic blood pressure (mm Hg)  \n",
    "\n",
    "Triceps skin fold thickness (mm)  \n",
    "\n",
    "2-Hour serum insulin (mu U/ml)  \n",
    "\n",
    "Body mass index (weight in kg/(height in m)^2)  \n",
    "\n",
    "Diabetes pedigree function  \n",
    "\n",
    "Age (years)   \n",
    "\n",
    "Class variable (0 or 1)  \n",
    "\n",
    "Class Distribution: (class value 1 is interpreted as \"tested positive for diabetes\")\n"
   ]
  },
  {
   "cell_type": "code",
   "execution_count": 80,
   "metadata": {},
   "outputs": [
    {
     "data": {
      "text/plain": [
       "0    400\n",
       "1    214\n",
       "Name: diabetes, dtype: int64"
      ]
     },
     "execution_count": 80,
     "metadata": {},
     "output_type": "execute_result"
    }
   ],
   "source": [
    "## Lets check the number of zeroes and ones or lets get a distribution of how many has diabetes and how many do not\n",
    "data[\"diabetes\"].value_counts()"
   ]
  },
  {
   "cell_type": "code",
   "execution_count": 81,
   "metadata": {},
   "outputs": [
    {
     "data": {
      "image/png": "[encoded data removed]",
      "text/plain": [
       "<Figure size 432x288 with 1 Axes>"
      ]
     },
     "metadata": {
      "needs_background": "light"
     },
     "output_type": "display_data"
    }
   ],
   "source": [
    "## Plotting bar plot\n",
    "\n",
    "data[\"diabetes\"].value_counts().plot(kind = \"bar\")  ## alpha=0.5  ## Setting alpha as per transparency\n",
    "plt.show()"
   ]
  },
  {
   "cell_type": "code",
   "execution_count": 136,
   "metadata": {},
   "outputs": [
    {
     "data": {
      "image/png": "[encoded data removed]",
      "text/plain": [
       "<Figure size 432x288 with 1 Axes>"
      ]
     },
     "metadata": {
      "needs_background": "light"
     },
     "output_type": "display_data"
    }
   ],
   "source": [
    "data[\"diabetes\"].value_counts().plot(kind = \"bar\", alpha = 0.8)\n",
    "plt.show()"
   ]
  },
  {
   "cell_type": "code",
   "execution_count": 140,
   "metadata": {},
   "outputs": [],
   "source": [
    "#check = pd.read_csv(\"test.csv\")\n",
    "#check[\"diabetes\"].value_counts().plot(kind = \"bar\") \n",
    "#pd.read_csv(\"test.csv\")"
   ]
  },
  {
   "cell_type": "markdown",
   "metadata": {},
   "source": [
    "## Question!!\n",
    "test[\"diabetes\"].value_counts().plot(kind = \"bar\")  \n",
    "\n",
    "Key Error?? Find out??"
   ]
  },
  {
   "cell_type": "code",
   "execution_count": 149,
   "metadata": {},
   "outputs": [
    {
     "data": {
      "image/png": "[encoded data removed]",
      "text/plain": [
       "<Figure size 1080x360 with 1 Axes>"
      ]
     },
     "metadata": {
      "needs_background": "light"
     },
     "output_type": "display_data"
    }
   ],
   "source": [
    "## Plotting a bar plot with matplot lib for diabetes column\n",
    "\n",
    "plt.figure(figsize=(15,5)) \n",
    "\n",
    "data[\"diabetes\"].value_counts().plot(kind = \"bar\", alpha=0.5, width=0.8)\n",
    "\n",
    "#plt.figure(figsize=(15,5)) \n",
    "\n",
    "plt.title(\"Bar plot for diabetes detection\", fontdict={'fontsize':20,'fontweight':8,'color':'Green'})\n",
    "\n",
    "plt.xlabel(\"Status\", fontdict={'fontsize':20,'fontweight':22,'color':'Green'})\n",
    "\n",
    "plt.ylabel(\"Number of patients\", fontdict={'fontsize':20,'fontweight':5,'color':'Green'})\n",
    "\n",
    "plt.show()"
   ]
  },
  {
   "cell_type": "markdown",
   "metadata": {},
   "source": [
    "## Introducing seaborn"
   ]
  },
  {
   "cell_type": "code",
   "execution_count": 84,
   "metadata": {},
   "outputs": [],
   "source": [
    "import seaborn as sns\n",
    "\n",
    "## Correlation matrix "
   ]
  },
  {
   "cell_type": "code",
   "execution_count": 86,
   "metadata": {},
   "outputs": [],
   "source": [
    "corr_mat = data.corr()"
   ]
  },
  {
   "cell_type": "code",
   "execution_count": 87,
   "metadata": {},
   "outputs": [
    {
     "data": {
      "text/html": [
       "<div>\n",
       "<style scoped>\n",
       "    .dataframe tbody tr th:only-of-type {\n",
       "        vertical-align: middle;\n",
       "    }\n",
       "\n",
       "    .dataframe tbody tr th {\n",
       "        vertical-align: top;\n",
       "    }\n",
       "\n",
       "    .dataframe thead th {\n",
       "        text-align: right;\n",
       "    }\n",
       "</style>\n",
       "<table border=\"1\" class=\"dataframe\">\n",
       "  <thead>\n",
       "    <tr style=\"text-align: right;\">\n",
       "      <th></th>\n",
       "      <th>p_id</th>\n",
       "      <th>no_times_pregnant</th>\n",
       "      <th>glucose_concentration</th>\n",
       "      <th>blood_pressure</th>\n",
       "      <th>skin_fold_thickness</th>\n",
       "      <th>serum_insulin</th>\n",
       "      <th>bmi</th>\n",
       "      <th>diabetes pedigree</th>\n",
       "      <th>age</th>\n",
       "      <th>diabetes</th>\n",
       "    </tr>\n",
       "  </thead>\n",
       "  <tbody>\n",
       "    <tr>\n",
       "      <th>p_id</th>\n",
       "      <td>1.000000</td>\n",
       "      <td>-0.034607</td>\n",
       "      <td>-0.001407</td>\n",
       "      <td>0.027835</td>\n",
       "      <td>0.008890</td>\n",
       "      <td>0.011636</td>\n",
       "      <td>-0.003948</td>\n",
       "      <td>-0.052759</td>\n",
       "      <td>0.020156</td>\n",
       "      <td>-0.071237</td>\n",
       "    </tr>\n",
       "    <tr>\n",
       "      <th>no_times_pregnant</th>\n",
       "      <td>-0.034607</td>\n",
       "      <td>1.000000</td>\n",
       "      <td>0.123416</td>\n",
       "      <td>0.140526</td>\n",
       "      <td>-0.085653</td>\n",
       "      <td>-0.091123</td>\n",
       "      <td>-0.004101</td>\n",
       "      <td>-0.005811</td>\n",
       "      <td>0.534231</td>\n",
       "      <td>0.209196</td>\n",
       "    </tr>\n",
       "    <tr>\n",
       "      <th>glucose_concentration</th>\n",
       "      <td>-0.001407</td>\n",
       "      <td>0.123416</td>\n",
       "      <td>1.000000</td>\n",
       "      <td>0.160167</td>\n",
       "      <td>0.043053</td>\n",
       "      <td>0.330860</td>\n",
       "      <td>0.222449</td>\n",
       "      <td>0.131274</td>\n",
       "      <td>0.241590</td>\n",
       "      <td>0.469336</td>\n",
       "    </tr>\n",
       "    <tr>\n",
       "      <th>blood_pressure</th>\n",
       "      <td>0.027835</td>\n",
       "      <td>0.140526</td>\n",
       "      <td>0.160167</td>\n",
       "      <td>1.000000</td>\n",
       "      <td>0.214275</td>\n",
       "      <td>0.088827</td>\n",
       "      <td>0.296000</td>\n",
       "      <td>0.042320</td>\n",
       "      <td>0.236387</td>\n",
       "      <td>0.072003</td>\n",
       "    </tr>\n",
       "    <tr>\n",
       "      <th>skin_fold_thickness</th>\n",
       "      <td>0.008890</td>\n",
       "      <td>-0.085653</td>\n",
       "      <td>0.043053</td>\n",
       "      <td>0.214275</td>\n",
       "      <td>1.000000</td>\n",
       "      <td>0.439886</td>\n",
       "      <td>0.413288</td>\n",
       "      <td>0.187470</td>\n",
       "      <td>-0.144741</td>\n",
       "      <td>0.052695</td>\n",
       "    </tr>\n",
       "    <tr>\n",
       "      <th>serum_insulin</th>\n",
       "      <td>0.011636</td>\n",
       "      <td>-0.091123</td>\n",
       "      <td>0.330860</td>\n",
       "      <td>0.088827</td>\n",
       "      <td>0.439886</td>\n",
       "      <td>1.000000</td>\n",
       "      <td>0.200914</td>\n",
       "      <td>0.176183</td>\n",
       "      <td>-0.052863</td>\n",
       "      <td>0.116562</td>\n",
       "    </tr>\n",
       "    <tr>\n",
       "      <th>bmi</th>\n",
       "      <td>-0.003948</td>\n",
       "      <td>-0.004101</td>\n",
       "      <td>0.222449</td>\n",
       "      <td>0.296000</td>\n",
       "      <td>0.413288</td>\n",
       "      <td>0.200914</td>\n",
       "      <td>1.000000</td>\n",
       "      <td>0.116301</td>\n",
       "      <td>0.025209</td>\n",
       "      <td>0.275263</td>\n",
       "    </tr>\n",
       "    <tr>\n",
       "      <th>diabetes pedigree</th>\n",
       "      <td>-0.052759</td>\n",
       "      <td>-0.005811</td>\n",
       "      <td>0.131274</td>\n",
       "      <td>0.042320</td>\n",
       "      <td>0.187470</td>\n",
       "      <td>0.176183</td>\n",
       "      <td>0.116301</td>\n",
       "      <td>1.000000</td>\n",
       "      <td>0.053637</td>\n",
       "      <td>0.173301</td>\n",
       "    </tr>\n",
       "    <tr>\n",
       "      <th>age</th>\n",
       "      <td>0.020156</td>\n",
       "      <td>0.534231</td>\n",
       "      <td>0.241590</td>\n",
       "      <td>0.236387</td>\n",
       "      <td>-0.144741</td>\n",
       "      <td>-0.052863</td>\n",
       "      <td>0.025209</td>\n",
       "      <td>0.053637</td>\n",
       "      <td>1.000000</td>\n",
       "      <td>0.221736</td>\n",
       "    </tr>\n",
       "    <tr>\n",
       "      <th>diabetes</th>\n",
       "      <td>-0.071237</td>\n",
       "      <td>0.209196</td>\n",
       "      <td>0.469336</td>\n",
       "      <td>0.072003</td>\n",
       "      <td>0.052695</td>\n",
       "      <td>0.116562</td>\n",
       "      <td>0.275263</td>\n",
       "      <td>0.173301</td>\n",
       "      <td>0.221736</td>\n",
       "      <td>1.000000</td>\n",
       "    </tr>\n",
       "  </tbody>\n",
       "</table>\n",
       "</div>"
      ],
      "text/plain": [
       "                           p_id  no_times_pregnant  glucose_concentration  \\\n",
       "p_id                   1.000000          -0.034607              -0.001407   \n",
       "no_times_pregnant     -0.034607           1.000000               0.123416   \n",
       "glucose_concentration -0.001407           0.123416               1.000000   \n",
       "blood_pressure         0.027835           0.140526               0.160167   \n",
       "skin_fold_thickness    0.008890          -0.085653               0.043053   \n",
       "serum_insulin          0.011636          -0.091123               0.330860   \n",
       "bmi                   -0.003948          -0.004101               0.222449   \n",
       "diabetes pedigree     -0.052759          -0.005811               0.131274   \n",
       "age                    0.020156           0.534231               0.241590   \n",
       "diabetes              -0.071237           0.209196               0.469336   \n",
       "\n",
       "                       blood_pressure  skin_fold_thickness  serum_insulin  \\\n",
       "p_id                         0.027835             0.008890       0.011636   \n",
       "no_times_pregnant            0.140526            -0.085653      -0.091123   \n",
       "glucose_concentration        0.160167             0.043053       0.330860   \n",
       "blood_pressure               1.000000             0.214275       0.088827   \n",
       "skin_fold_thickness          0.214275             1.000000       0.439886   \n",
       "serum_insulin                0.088827             0.439886       1.000000   \n",
       "bmi                          0.296000             0.413288       0.200914   \n",
       "diabetes pedigree            0.042320             0.187470       0.176183   \n",
       "age                          0.236387            -0.144741      -0.052863   \n",
       "diabetes                     0.072003             0.052695       0.116562   \n",
       "\n",
       "                            bmi  diabetes pedigree       age  diabetes  \n",
       "p_id                  -0.003948          -0.052759  0.020156 -0.071237  \n",
       "no_times_pregnant     -0.004101          -0.005811  0.534231  0.209196  \n",
       "glucose_concentration  0.222449           0.131274  0.241590  0.469336  \n",
       "blood_pressure         0.296000           0.042320  0.236387  0.072003  \n",
       "skin_fold_thickness    0.413288           0.187470 -0.144741  0.052695  \n",
       "serum_insulin          0.200914           0.176183 -0.052863  0.116562  \n",
       "bmi                    1.000000           0.116301  0.025209  0.275263  \n",
       "diabetes pedigree      0.116301           1.000000  0.053637  0.173301  \n",
       "age                    0.025209           0.053637  1.000000  0.221736  \n",
       "diabetes               0.275263           0.173301  0.221736  1.000000  "
      ]
     },
     "execution_count": 87,
     "metadata": {},
     "output_type": "execute_result"
    }
   ],
   "source": [
    "data.corr()"
   ]
  },
  {
   "cell_type": "code",
   "execution_count": 88,
   "metadata": {},
   "outputs": [
    {
     "data": {
      "image/png": "[encoded data removed]",
      "text/plain": [
       "<Figure size 1440x1440 with 2 Axes>"
      ]
     },
     "metadata": {
      "needs_background": "light"
     },
     "output_type": "display_data"
    }
   ],
   "source": [
    "plt.figure(figsize=(20, 20))\n",
    "sns.heatmap(data.corr(),annot=True,cmap=\"RdYlGn\")\n",
    "plt.show()\n"
   ]
  },
  {
   "cell_type": "markdown",
   "metadata": {},
   "source": [
    "## Changing the diabetes column data from boolean to number¶\n",
    "\n",
    "In case your diabetes column has values True for 1's and False for 0's. How to replace both at the same time?"
   ]
  },
  {
   "cell_type": "code",
   "execution_count": 151,
   "metadata": {},
   "outputs": [],
   "source": [
    "diabetes_map = {True: 1, False: 0}  ## Creating a map; its nothing but a dictionary"
   ]
  },
  {
   "cell_type": "code",
   "execution_count": 150,
   "metadata": {},
   "outputs": [],
   "source": [
    "data['diabetes'] = data['diabetes'].map(diabetes_map)\n"
   ]
  },
  {
   "cell_type": "code",
   "execution_count": 152,
   "metadata": {},
   "outputs": [
    {
     "data": {
      "text/html": [
       "<div>\n",
       "<style scoped>\n",
       "    .dataframe tbody tr th:only-of-type {\n",
       "        vertical-align: middle;\n",
       "    }\n",
       "\n",
       "    .dataframe tbody tr th {\n",
       "        vertical-align: top;\n",
       "    }\n",
       "\n",
       "    .dataframe thead th {\n",
       "        text-align: right;\n",
       "    }\n",
       "</style>\n",
       "<table border=\"1\" class=\"dataframe\">\n",
       "  <thead>\n",
       "    <tr style=\"text-align: right;\">\n",
       "      <th></th>\n",
       "      <th>p_id</th>\n",
       "      <th>no_times_pregnant</th>\n",
       "      <th>glucose_concentration</th>\n",
       "      <th>blood_pressure</th>\n",
       "      <th>skin_fold_thickness</th>\n",
       "      <th>serum_insulin</th>\n",
       "      <th>bmi</th>\n",
       "      <th>diabetes pedigree</th>\n",
       "      <th>age</th>\n",
       "      <th>diabetes</th>\n",
       "    </tr>\n",
       "  </thead>\n",
       "  <tbody>\n",
       "    <tr>\n",
       "      <th>0</th>\n",
       "      <td>316</td>\n",
       "      <td>2</td>\n",
       "      <td>112</td>\n",
       "      <td>68</td>\n",
       "      <td>22</td>\n",
       "      <td>94</td>\n",
       "      <td>34.1</td>\n",
       "      <td>0.315</td>\n",
       "      <td>26</td>\n",
       "      <td>0</td>\n",
       "    </tr>\n",
       "    <tr>\n",
       "      <th>1</th>\n",
       "      <td>25</td>\n",
       "      <td>11</td>\n",
       "      <td>143</td>\n",
       "      <td>94</td>\n",
       "      <td>33</td>\n",
       "      <td>146</td>\n",
       "      <td>36.6</td>\n",
       "      <td>0.254</td>\n",
       "      <td>51</td>\n",
       "      <td>1</td>\n",
       "    </tr>\n",
       "    <tr>\n",
       "      <th>2</th>\n",
       "      <td>710</td>\n",
       "      <td>2</td>\n",
       "      <td>93</td>\n",
       "      <td>64</td>\n",
       "      <td>32</td>\n",
       "      <td>160</td>\n",
       "      <td>38.0</td>\n",
       "      <td>0.674</td>\n",
       "      <td>23</td>\n",
       "      <td>1</td>\n",
       "    </tr>\n",
       "  </tbody>\n",
       "</table>\n",
       "</div>"
      ],
      "text/plain": [
       "   p_id  no_times_pregnant  glucose_concentration  blood_pressure  \\\n",
       "0   316                  2                    112              68   \n",
       "1    25                 11                    143              94   \n",
       "2   710                  2                     93              64   \n",
       "\n",
       "   skin_fold_thickness  serum_insulin   bmi  diabetes pedigree  age  diabetes  \n",
       "0                   22             94  34.1              0.315   26         0  \n",
       "1                   33            146  36.6              0.254   51         1  \n",
       "2                   32            160  38.0              0.674   23         1  "
      ]
     },
     "execution_count": 152,
     "metadata": {},
     "output_type": "execute_result"
    }
   ],
   "source": [
    "data.head(3)"
   ]
  },
  {
   "cell_type": "markdown",
   "metadata": {},
   "source": [
    "### Train Test Split with sci-kit learn"
   ]
  },
  {
   "cell_type": "code",
   "execution_count": 153,
   "metadata": {},
   "outputs": [
    {
     "data": {
      "text/plain": [
       "(614, 10)"
      ]
     },
     "execution_count": 153,
     "metadata": {},
     "output_type": "execute_result"
    }
   ],
   "source": [
    "data.shape"
   ]
  },
  {
   "cell_type": "code",
   "execution_count": 154,
   "metadata": {},
   "outputs": [],
   "source": [
    "from sklearn.model_selection import train_test_split\n",
    "\n",
    "feature_columns = ['p_id', 'no_times_pregnant', 'glucose_concentration', 'blood_pressure','skin_fold_thickness', 'serum_insulin', 'bmi', 'diabetes pedigree','age']\n",
    "target = ['diabetes']"
   ]
  },
  {
   "cell_type": "code",
   "execution_count": 155,
   "metadata": {},
   "outputs": [
    {
     "data": {
      "text/plain": [
       "Index(['p_id', 'no_times_pregnant', 'glucose_concentration', 'blood_pressure',\n",
       "       'skin_fold_thickness', 'serum_insulin', 'bmi', 'diabetes pedigree',\n",
       "       'age', 'diabetes'],\n",
       "      dtype='object')"
      ]
     },
     "execution_count": 155,
     "metadata": {},
     "output_type": "execute_result"
    }
   ],
   "source": [
    "data.columns"
   ]
  },
  {
   "cell_type": "code",
   "execution_count": 156,
   "metadata": {},
   "outputs": [],
   "source": [
    "X = data[feature_columns].values ## Independent features/variables\n",
    "y = data[target].values"
   ]
  },
  {
   "cell_type": "code",
   "execution_count": 157,
   "metadata": {},
   "outputs": [
    {
     "data": {
      "text/plain": [
       "array([[3.16e+02, 2.00e+00, 1.12e+02, ..., 3.41e+01, 3.15e-01, 2.60e+01],\n",
       "       [2.50e+01, 1.10e+01, 1.43e+02, ..., 3.66e+01, 2.54e-01, 5.10e+01],\n",
       "       [7.10e+02, 2.00e+00, 9.30e+01, ..., 3.80e+01, 6.74e-01, 2.30e+01],\n",
       "       ...,\n",
       "       [7.30e+02, 2.00e+00, 9.20e+01, ..., 3.01e+01, 1.41e-01, 2.20e+01],\n",
       "       [1.03e+02, 0.00e+00, 1.25e+02, ..., 2.25e+01, 2.62e-01, 2.10e+01],\n",
       "       [6.03e+02, 1.00e+00, 1.24e+02, ..., 2.78e+01, 1.00e-01, 3.00e+01]])"
      ]
     },
     "execution_count": 157,
     "metadata": {},
     "output_type": "execute_result"
    }
   ],
   "source": [
    "X"
   ]
  },
  {
   "cell_type": "code",
   "execution_count": 159,
   "metadata": {},
   "outputs": [],
   "source": [
    "#y\n",
    "\n",
    "training             y train  \n",
    "-------------------  1\n",
    "--------------------  0\n",
    "--------------------   1\n",
    "--------------------  0\n",
    "test                   y test\n",
    "---------------------  1\n"
   ]
  },
  {
   "cell_type": "code",
   "execution_count": 160,
   "metadata": {},
   "outputs": [],
   "source": [
    "## Splitting\n",
    "\n",
    "X_train, X_test, y_train, y_test = train_test_split(X, y, test_size = 0.20, random_state = 10)"
   ]
  },
  {
   "cell_type": "code",
   "execution_count": 161,
   "metadata": {},
   "outputs": [
    {
     "name": "stdout",
     "output_type": "stream",
     "text": [
      "Train data shape : (491, 9)\n",
      "Test data shape : (123, 9)\n"
     ]
    }
   ],
   "source": [
    "print(\"Train data shape :\" , X_train.shape)\n",
    "print(\"Test data shape :\" , X_test.shape)"
   ]
  },
  {
   "cell_type": "code",
   "execution_count": 162,
   "metadata": {},
   "outputs": [
    {
     "name": "stdout",
     "output_type": "stream",
     "text": [
      "Target in train shape : (491, 1)\n",
      "Target in test shape : (123, 1)\n"
     ]
    }
   ],
   "source": [
    "print(\"Target in train shape :\" , y_train.shape)\n",
    "print(\"Target in test shape :\" , y_test.shape)"
   ]
  },
  {
   "cell_type": "code",
   "execution_count": 108,
   "metadata": {},
   "outputs": [
    {
     "data": {
      "text/html": [
       "<div>\n",
       "<style scoped>\n",
       "    .dataframe tbody tr th:only-of-type {\n",
       "        vertical-align: middle;\n",
       "    }\n",
       "\n",
       "    .dataframe tbody tr th {\n",
       "        vertical-align: top;\n",
       "    }\n",
       "\n",
       "    .dataframe thead th {\n",
       "        text-align: right;\n",
       "    }\n",
       "</style>\n",
       "<table border=\"1\" class=\"dataframe\">\n",
       "  <thead>\n",
       "    <tr style=\"text-align: right;\">\n",
       "      <th></th>\n",
       "      <th>p_id</th>\n",
       "      <th>no_times_pregnant</th>\n",
       "      <th>glucose_concentration</th>\n",
       "      <th>blood_pressure</th>\n",
       "      <th>skin_fold_thickness</th>\n",
       "      <th>serum_insulin</th>\n",
       "      <th>bmi</th>\n",
       "      <th>diabetes pedigree</th>\n",
       "      <th>age</th>\n",
       "      <th>diabetes</th>\n",
       "    </tr>\n",
       "  </thead>\n",
       "  <tbody>\n",
       "    <tr>\n",
       "      <th>0</th>\n",
       "      <td>316</td>\n",
       "      <td>2</td>\n",
       "      <td>112</td>\n",
       "      <td>68</td>\n",
       "      <td>22</td>\n",
       "      <td>94</td>\n",
       "      <td>34.1</td>\n",
       "      <td>0.315</td>\n",
       "      <td>26</td>\n",
       "      <td>0</td>\n",
       "    </tr>\n",
       "    <tr>\n",
       "      <th>1</th>\n",
       "      <td>25</td>\n",
       "      <td>11</td>\n",
       "      <td>143</td>\n",
       "      <td>94</td>\n",
       "      <td>33</td>\n",
       "      <td>146</td>\n",
       "      <td>36.6</td>\n",
       "      <td>0.254</td>\n",
       "      <td>51</td>\n",
       "      <td>1</td>\n",
       "    </tr>\n",
       "    <tr>\n",
       "      <th>2</th>\n",
       "      <td>710</td>\n",
       "      <td>2</td>\n",
       "      <td>93</td>\n",
       "      <td>64</td>\n",
       "      <td>32</td>\n",
       "      <td>160</td>\n",
       "      <td>38.0</td>\n",
       "      <td>0.674</td>\n",
       "      <td>23</td>\n",
       "      <td>1</td>\n",
       "    </tr>\n",
       "    <tr>\n",
       "      <th>3</th>\n",
       "      <td>658</td>\n",
       "      <td>1</td>\n",
       "      <td>120</td>\n",
       "      <td>80</td>\n",
       "      <td>48</td>\n",
       "      <td>200</td>\n",
       "      <td>38.9</td>\n",
       "      <td>1.162</td>\n",
       "      <td>41</td>\n",
       "      <td>0</td>\n",
       "    </tr>\n",
       "    <tr>\n",
       "      <th>4</th>\n",
       "      <td>542</td>\n",
       "      <td>3</td>\n",
       "      <td>128</td>\n",
       "      <td>72</td>\n",
       "      <td>25</td>\n",
       "      <td>190</td>\n",
       "      <td>32.4</td>\n",
       "      <td>0.549</td>\n",
       "      <td>27</td>\n",
       "      <td>1</td>\n",
       "    </tr>\n",
       "    <tr>\n",
       "      <th>5</th>\n",
       "      <td>152</td>\n",
       "      <td>4</td>\n",
       "      <td>114</td>\n",
       "      <td>65</td>\n",
       "      <td>0</td>\n",
       "      <td>0</td>\n",
       "      <td>21.9</td>\n",
       "      <td>0.432</td>\n",
       "      <td>37</td>\n",
       "      <td>0</td>\n",
       "    </tr>\n",
       "    <tr>\n",
       "      <th>6</th>\n",
       "      <td>173</td>\n",
       "      <td>2</td>\n",
       "      <td>87</td>\n",
       "      <td>0</td>\n",
       "      <td>23</td>\n",
       "      <td>0</td>\n",
       "      <td>28.9</td>\n",
       "      <td>0.773</td>\n",
       "      <td>25</td>\n",
       "      <td>0</td>\n",
       "    </tr>\n",
       "    <tr>\n",
       "      <th>7</th>\n",
       "      <td>276</td>\n",
       "      <td>2</td>\n",
       "      <td>100</td>\n",
       "      <td>70</td>\n",
       "      <td>52</td>\n",
       "      <td>57</td>\n",
       "      <td>40.5</td>\n",
       "      <td>0.677</td>\n",
       "      <td>25</td>\n",
       "      <td>0</td>\n",
       "    </tr>\n",
       "    <tr>\n",
       "      <th>8</th>\n",
       "      <td>624</td>\n",
       "      <td>0</td>\n",
       "      <td>94</td>\n",
       "      <td>70</td>\n",
       "      <td>27</td>\n",
       "      <td>115</td>\n",
       "      <td>43.5</td>\n",
       "      <td>0.347</td>\n",
       "      <td>21</td>\n",
       "      <td>0</td>\n",
       "    </tr>\n",
       "    <tr>\n",
       "      <th>9</th>\n",
       "      <td>443</td>\n",
       "      <td>4</td>\n",
       "      <td>117</td>\n",
       "      <td>64</td>\n",
       "      <td>27</td>\n",
       "      <td>120</td>\n",
       "      <td>33.2</td>\n",
       "      <td>0.230</td>\n",
       "      <td>24</td>\n",
       "      <td>0</td>\n",
       "    </tr>\n",
       "    <tr>\n",
       "      <th>10</th>\n",
       "      <td>158</td>\n",
       "      <td>1</td>\n",
       "      <td>109</td>\n",
       "      <td>56</td>\n",
       "      <td>21</td>\n",
       "      <td>135</td>\n",
       "      <td>25.2</td>\n",
       "      <td>0.833</td>\n",
       "      <td>23</td>\n",
       "      <td>0</td>\n",
       "    </tr>\n",
       "    <tr>\n",
       "      <th>11</th>\n",
       "      <td>400</td>\n",
       "      <td>3</td>\n",
       "      <td>193</td>\n",
       "      <td>70</td>\n",
       "      <td>31</td>\n",
       "      <td>0</td>\n",
       "      <td>34.9</td>\n",
       "      <td>0.241</td>\n",
       "      <td>25</td>\n",
       "      <td>1</td>\n",
       "    </tr>\n",
       "    <tr>\n",
       "      <th>12</th>\n",
       "      <td>48</td>\n",
       "      <td>2</td>\n",
       "      <td>71</td>\n",
       "      <td>70</td>\n",
       "      <td>27</td>\n",
       "      <td>0</td>\n",
       "      <td>28.0</td>\n",
       "      <td>0.586</td>\n",
       "      <td>22</td>\n",
       "      <td>0</td>\n",
       "    </tr>\n",
       "    <tr>\n",
       "      <th>13</th>\n",
       "      <td>147</td>\n",
       "      <td>9</td>\n",
       "      <td>57</td>\n",
       "      <td>80</td>\n",
       "      <td>37</td>\n",
       "      <td>0</td>\n",
       "      <td>32.8</td>\n",
       "      <td>0.096</td>\n",
       "      <td>41</td>\n",
       "      <td>0</td>\n",
       "    </tr>\n",
       "    <tr>\n",
       "      <th>14</th>\n",
       "      <td>251</td>\n",
       "      <td>9</td>\n",
       "      <td>106</td>\n",
       "      <td>52</td>\n",
       "      <td>0</td>\n",
       "      <td>0</td>\n",
       "      <td>31.2</td>\n",
       "      <td>0.380</td>\n",
       "      <td>42</td>\n",
       "      <td>0</td>\n",
       "    </tr>\n",
       "  </tbody>\n",
       "</table>\n",
       "</div>"
      ],
      "text/plain": [
       "    p_id  no_times_pregnant  glucose_concentration  blood_pressure  \\\n",
       "0    316                  2                    112              68   \n",
       "1     25                 11                    143              94   \n",
       "2    710                  2                     93              64   \n",
       "3    658                  1                    120              80   \n",
       "4    542                  3                    128              72   \n",
       "5    152                  4                    114              65   \n",
       "6    173                  2                     87               0   \n",
       "7    276                  2                    100              70   \n",
       "8    624                  0                     94              70   \n",
       "9    443                  4                    117              64   \n",
       "10   158                  1                    109              56   \n",
       "11   400                  3                    193              70   \n",
       "12    48                  2                     71              70   \n",
       "13   147                  9                     57              80   \n",
       "14   251                  9                    106              52   \n",
       "\n",
       "    skin_fold_thickness  serum_insulin   bmi  diabetes pedigree  age  diabetes  \n",
       "0                    22             94  34.1              0.315   26         0  \n",
       "1                    33            146  36.6              0.254   51         1  \n",
       "2                    32            160  38.0              0.674   23         1  \n",
       "3                    48            200  38.9              1.162   41         0  \n",
       "4                    25            190  32.4              0.549   27         1  \n",
       "5                     0              0  21.9              0.432   37         0  \n",
       "6                    23              0  28.9              0.773   25         0  \n",
       "7                    52             57  40.5              0.677   25         0  \n",
       "8                    27            115  43.5              0.347   21         0  \n",
       "9                    27            120  33.2              0.230   24         0  \n",
       "10                   21            135  25.2              0.833   23         0  \n",
       "11                   31              0  34.9              0.241   25         1  \n",
       "12                   27              0  28.0              0.586   22         0  \n",
       "13                   37              0  32.8              0.096   41         0  \n",
       "14                    0              0  31.2              0.380   42         0  "
      ]
     },
     "execution_count": 108,
     "metadata": {},
     "output_type": "execute_result"
    }
   ],
   "source": [
    "## Now what to do if the feature values are 0 at some places?\n",
    "## Lets check out!\n",
    "\n",
    "data.head(15)"
   ]
  },
  {
   "cell_type": "code",
   "execution_count": 112,
   "metadata": {},
   "outputs": [
    {
     "name": "stdout",
     "output_type": "stream",
     "text": [
      "total number of rows : 614\n",
      "number of rows missing in pregnancy: 90\n",
      "number of rows missing in glucose_conc: 4\n",
      "number of rows missing in bp: 31\n",
      "number of rows missing insulin: 304\n",
      "number of rows missing bmi: 10\n",
      "number of rows missing diab_pedigree: 0\n",
      "number of rows missing age: 0\n",
      "number of rows missing skin: 187\n"
     ]
    }
   ],
   "source": [
    "print(\"total number of rows : {0}\".format(len(data)))\n",
    "\n",
    "print(\"number of rows missing in pregnancy: {0}\".format(len(data.loc[data['no_times_pregnant'] == 0])))\n",
    "print(\"number of rows missing in glucose_conc: {0}\".format(len(data.loc[data['glucose_concentration'] == 0])))\n",
    "print(\"number of rows missing in bp: {0}\".format(len(data.loc[data['blood_pressure'] == 0])))\n",
    "print(\"number of rows missing insulin: {0}\".format(len(data.loc[data['serum_insulin'] == 0])))\n",
    "print(\"number of rows missing bmi: {0}\".format(len(data.loc[data['bmi'] == 0])))\n",
    "print(\"number of rows missing diab_pedigree: {0}\".format(len(data.loc[data['diabetes pedigree'] == 0])))\n",
    "print(\"number of rows missing age: {0}\".format(len(data.loc[data['age'] == 0])))\n",
    "\n",
    "\n",
    "print(\"number of rows missing skin: {0}\".format(len(data.loc[data['skin_fold_thickness'] == 0])))"
   ]
  },
  {
   "cell_type": "code",
   "execution_count": 166,
   "metadata": {},
   "outputs": [
    {
     "data": {
      "text/plain": [
       "90"
      ]
     },
     "execution_count": 166,
     "metadata": {},
     "output_type": "execute_result"
    }
   ],
   "source": [
    "len(data.loc[data[\"no_times_pregnant\"] == 0])"
   ]
  },
  {
   "cell_type": "code",
   "execution_count": 115,
   "metadata": {},
   "outputs": [
    {
     "name": "stdout",
     "output_type": "stream",
     "text": [
      "total number of rows :  614\n"
     ]
    }
   ],
   "source": [
    "print(\"total number of rows : \", len(data))\n"
   ]
  },
  {
   "cell_type": "code",
   "execution_count": 167,
   "metadata": {},
   "outputs": [
    {
     "name": "stdout",
     "output_type": "stream",
     "text": [
      "number of rows missing in pregnancy:  90\n"
     ]
    }
   ],
   "source": [
    "print(\"number of rows missing in pregnancy: \", len(data.loc[data['no_times_pregnant'] == 0]))\n"
   ]
  },
  {
   "cell_type": "markdown",
   "metadata": {},
   "source": [
    "## Looks like lot of 0s are there, what to do now??\n",
    "\n",
    "https://scikit-learn.org/stable/modules/generated/sklearn.impute.SimpleImputer.html"
   ]
  },
  {
   "cell_type": "code",
   "execution_count": 168,
   "metadata": {},
   "outputs": [],
   "source": [
    "## sklearn has a functionality to perform imputation in one shot\n",
    "##Imputation transformer for completing missing values.\n",
    "\n",
    "from sklearn.impute import SimpleImputer"
   ]
  },
  {
   "cell_type": "code",
   "execution_count": 169,
   "metadata": {},
   "outputs": [],
   "source": [
    "imputer = SimpleImputer(missing_values=0, strategy='mean')"
   ]
  },
  {
   "cell_type": "code",
   "execution_count": 123,
   "metadata": {},
   "outputs": [],
   "source": [
    "X_train = imputer.fit_transform(X_train)\n",
    "X_test = imputer.fit_transform(X_test)\n"
   ]
  },
  {
   "cell_type": "code",
   "execution_count": 122,
   "metadata": {},
   "outputs": [
    {
     "data": {
      "text/plain": [
       "array([[7.50e+01, 1.00e+00, 7.90e+01, ..., 3.20e+01, 3.96e-01, 2.20e+01],\n",
       "       [5.83e+02, 1.20e+01, 1.21e+02, ..., 2.65e+01, 2.59e-01, 6.20e+01],\n",
       "       [3.44e+02, 5.00e+00, 1.22e+02, ..., 3.47e+01, 2.90e-01, 3.30e+01],\n",
       "       ...,\n",
       "       [5.03e+02, 6.00e+00, 0.00e+00, ..., 3.90e+01, 7.27e-01, 4.10e+01],\n",
       "       [3.12e+02, 0.00e+00, 1.06e+02, ..., 3.94e+01, 6.05e-01, 2.20e+01],\n",
       "       [3.55e+02, 3.00e+00, 9.00e+01, ..., 4.27e+01, 5.59e-01, 2.10e+01]])"
      ]
     },
     "execution_count": 122,
     "metadata": {},
     "output_type": "execute_result"
    }
   ],
   "source": [
    "Before"
   ]
  },
  {
   "cell_type": "code",
   "execution_count": 124,
   "metadata": {},
   "outputs": [
    {
     "data": {
      "text/plain": [
       "array([[7.50000000e+01, 1.00000000e+00, 7.90000000e+01, ...,\n",
       "        3.20000000e+01, 3.96000000e-01, 2.20000000e+01],\n",
       "       [5.83000000e+02, 1.20000000e+01, 1.21000000e+02, ...,\n",
       "        2.65000000e+01, 2.59000000e-01, 6.20000000e+01],\n",
       "       [3.44000000e+02, 5.00000000e+00, 1.22000000e+02, ...,\n",
       "        3.47000000e+01, 2.90000000e-01, 3.30000000e+01],\n",
       "       ...,\n",
       "       [5.03000000e+02, 6.00000000e+00, 1.21224824e+02, ...,\n",
       "        3.90000000e+01, 7.27000000e-01, 4.10000000e+01],\n",
       "       [3.12000000e+02, 4.65135135e+00, 1.06000000e+02, ...,\n",
       "        3.94000000e+01, 6.05000000e-01, 2.20000000e+01],\n",
       "       [3.55000000e+02, 3.00000000e+00, 9.00000000e+01, ...,\n",
       "        4.27000000e+01, 5.59000000e-01, 2.10000000e+01]])"
      ]
     },
     "execution_count": 124,
     "metadata": {},
     "output_type": "execute_result"
    }
   ],
   "source": [
    "X_train (After)"
   ]
  },
  {
   "cell_type": "code",
   "execution_count": 172,
   "metadata": {},
   "outputs": [
    {
     "data": {
      "text/plain": [
       "RandomForestClassifier(random_state=10)"
      ]
     },
     "execution_count": 172,
     "metadata": {},
     "output_type": "execute_result"
    }
   ],
   "source": [
    "## Applying algorithm\n",
    "\n",
    "from sklearn.ensemble import RandomForestClassifier\n",
    "\n",
    "random_forest_model = RandomForestClassifier(random_state=10)\n",
    "\n",
    "random_forest_model.fit(X_train, y_train.ravel())"
   ]
  },
  {
   "cell_type": "code",
   "execution_count": 173,
   "metadata": {},
   "outputs": [],
   "source": [
    "##Predicting on your x test data\n",
    "\n",
    "predict_train_data = random_forest_model.predict(X_test)\n",
    "\n"
   ]
  },
  {
   "cell_type": "code",
   "execution_count": 175,
   "metadata": {},
   "outputs": [
    {
     "name": "stdout",
     "output_type": "stream",
     "text": [
      "Accuracy = 0.870\n"
     ]
    }
   ],
   "source": [
    "## For importing performance metrics\n",
    "\n",
    "from sklearn import metrics\n",
    "\n",
    "print(\"Accuracy = {0:.3f}\".format(metrics.accuracy_score(y_test, predict_train_data)))"
   ]
  },
  {
   "cell_type": "code",
   "execution_count": 178,
   "metadata": {},
   "outputs": [
    {
     "data": {
      "text/plain": [
       "(123,)"
      ]
     },
     "execution_count": 178,
     "metadata": {},
     "output_type": "execute_result"
    }
   ],
   "source": [
    "predict_train_data.shape"
   ]
  },
  {
   "cell_type": "code",
   "execution_count": null,
   "metadata": {},
   "outputs": [],
   "source": []
  }
 ],
 "metadata": {
  "kernelspec": {
   "display_name": "Python 3",
   "language": "python",
   "name": "python3"
  },
  "language_info": {
   "codemirror_mode": {
    "name": "ipython",
    "version": 3
   },
   "file_extension": ".py",
   "mimetype": "text/x-python",
   "name": "python",
   "nbconvert_exporter": "python",
   "pygments_lexer": "ipython3",
   "version": "3.7.0"
  }
 },
 "nbformat": 4,
 "nbformat_minor": 4
}
